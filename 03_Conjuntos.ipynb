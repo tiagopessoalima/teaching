{
  "nbformat": 4,
  "nbformat_minor": 0,
  "metadata": {
    "colab": {
      "provenance": [],
      "authorship_tag": "ABX9TyO/KKG7f7NQEAqISrWhqw3f",
      "include_colab_link": true
    },
    "kernelspec": {
      "name": "python3",
      "display_name": "Python 3"
    },
    "language_info": {
      "name": "python"
    }
  },
  "cells": [
    {
      "cell_type": "markdown",
      "metadata": {
        "id": "view-in-github",
        "colab_type": "text"
      },
      "source": [
        "<a href=\"https://colab.research.google.com/github/tiagopessoalima/teaching/blob/main/03_Conjuntos.ipynb\" target=\"_parent\"><img src=\"https://colab.research.google.com/assets/colab-badge.svg\" alt=\"Open In Colab\"/></a>"
      ]
    },
    {
      "cell_type": "markdown",
      "source": [
        "# **Conjuntos (Sets)**"
      ],
      "metadata": {
        "id": "KGcmm0oJULoY"
      }
    },
    {
      "cell_type": "markdown",
      "source": [
        "Conjuntos em *Python*, também conhecidos como *sets*, são estruturas de dados que representam uma coleção não ordenada de elementos únicos. Isso significa que não há elementos repetidos dentro de um conjunto e a ordem em que os elementos são inseridos não é preservada."
      ],
      "metadata": {
        "id": "tfmO8LHHUPdt"
      }
    },
    {
      "cell_type": "markdown",
      "source": [
        "## **Criando Conjuntos**"
      ],
      "metadata": {
        "id": "ODUmAcHTUrzW"
      }
    },
    {
      "cell_type": "markdown",
      "source": [
        "Existem duas maneiras principais de criar conjuntos em Python:"
      ],
      "metadata": {
        "id": "0EU225kvUu1Z"
      }
    },
    {
      "cell_type": "markdown",
      "source": [
        "1. Usando chaves `{}`:"
      ],
      "metadata": {
        "id": "Cb3XwS0XUwO_"
      }
    },
    {
      "cell_type": "code",
      "source": [
        "meu_conjunto = {1, 2, 3, 4, 5}\n",
        "print(meu_conjunto)"
      ],
      "metadata": {
        "id": "BTobcpupUNHs"
      },
      "execution_count": 1,
      "outputs": []
    },
    {
      "cell_type": "markdown",
      "source": [
        "2. Usando a função `set()`:"
      ],
      "metadata": {
        "id": "_m2A-mlMU3a4"
      }
    },
    {
      "cell_type": "code",
      "source": [
        "meu_conjunto = set([1, 2, 3, 4, 5])  # A partir de uma lista\n",
        "print(meu_conjunto)"
      ],
      "metadata": {
        "colab": {
          "base_uri": "https://localhost:8080/"
        },
        "id": "spR4XebJVGKf",
        "outputId": "d3074bc6-fa19-4d81-fdb4-a8fd41d6e5c3"
      },
      "execution_count": 2,
      "outputs": [
        {
          "output_type": "stream",
          "name": "stdout",
          "text": [
            "{1, 2, 3, 4, 5}\n"
          ]
        }
      ]
    },
    {
      "cell_type": "code",
      "source": [
        "meu_conjunto = set(\"abracadabra\")  # A partir de uma string\n",
        "print(meu_conjunto)"
      ],
      "metadata": {
        "colab": {
          "base_uri": "https://localhost:8080/"
        },
        "id": "9QzdyJMkU6OG",
        "outputId": "24b5b35f-10bb-4df9-b5b2-beb202745dc8"
      },
      "execution_count": 3,
      "outputs": [
        {
          "output_type": "stream",
          "name": "stdout",
          "text": [
            "{'d', 'b', 'a', 'c', 'r'}\n"
          ]
        }
      ]
    },
    {
      "cell_type": "markdown",
      "source": [
        "## **Acessando Elementos**\n",
        "\n"
      ],
      "metadata": {
        "id": "ATRq1CmdVWCe"
      }
    },
    {
      "cell_type": "markdown",
      "source": [
        "Conjuntos não suportam indexação ou fatiamento. Para acessar os elementos, você pode iterar sobre o conjunto usando um loop for:\n",
        "\n"
      ],
      "metadata": {
        "id": "X6jX1DvlVY2I"
      }
    },
    {
      "cell_type": "code",
      "source": [
        "meu_conjunto = {1, 2, 3, 4, 5}\n",
        "\n",
        "for elemento in meu_conjunto:\n",
        "  print(elemento)"
      ],
      "metadata": {
        "id": "q2QoSssIVmwn"
      },
      "execution_count": null,
      "outputs": []
    },
    {
      "cell_type": "markdown",
      "source": [
        "## **Operações com Conjuntos**\n"
      ],
      "metadata": {
        "id": "WeDsMLT8VpeV"
      }
    },
    {
      "cell_type": "markdown",
      "source": [
        "Conjuntos em Python suportam diversas operações úteis, incluindo:"
      ],
      "metadata": {
        "id": "E8j5hPa2VsNE"
      }
    },
    {
      "cell_type": "markdown",
      "source": [
        "- **União**: Combina os elementos de dois conjuntos."
      ],
      "metadata": {
        "id": "Ce88EuPgVu7v"
      }
    },
    {
      "cell_type": "code",
      "source": [
        "conjunto1 = {1, 2, 3}\n",
        "conjunto2 = {3, 4, 5}\n",
        "uniao = conjunto1 | conjunto2  # ou conjunto1.union(conjunto2)\n",
        "print(uniao)"
      ],
      "metadata": {
        "colab": {
          "base_uri": "https://localhost:8080/"
        },
        "id": "axs_wpI-VzfB",
        "outputId": "a0f2c306-1562-4f75-c6fa-69e0c70d3187"
      },
      "execution_count": 4,
      "outputs": [
        {
          "output_type": "stream",
          "name": "stdout",
          "text": [
            "{1, 2, 3, 4, 5}\n"
          ]
        }
      ]
    },
    {
      "cell_type": "markdown",
      "source": [
        "- **Interseção**: Retorna os elementos presentes em ambos os conjuntos.\n",
        "\n"
      ],
      "metadata": {
        "id": "gD80o_xDV6cY"
      }
    },
    {
      "cell_type": "code",
      "source": [
        "conjunto1 = {1, 2, 3}\n",
        "conjunto2 = {3, 4, 5}\n",
        "intersecao = conjunto1 & conjunto2  # ou conjunto1.intersection(conjunto2)\n",
        "print(intersecao)"
      ],
      "metadata": {
        "id": "yeIyi6dbV-bt"
      },
      "execution_count": null,
      "outputs": []
    },
    {
      "cell_type": "markdown",
      "source": [
        "- **Diferença**: Retorna os elementos que estão no primeiro conjunto, mas não no segundo."
      ],
      "metadata": {
        "id": "vmOTofsFWE2l"
      }
    },
    {
      "cell_type": "code",
      "source": [
        "conjunto1 = {1, 2, 3}\n",
        "conjunto2 = {3, 4, 5}\n",
        "diferenca = conjunto1 - conjunto2  # ou conjunto1.difference(conjunto2)\n",
        "print(diferenca)"
      ],
      "metadata": {
        "id": "ba5X28BPWHZG"
      },
      "execution_count": null,
      "outputs": []
    },
    {
      "cell_type": "markdown",
      "source": [
        "- **Diferença Simétrica**: Retorna os elementos que estão em um dos conjuntos, mas não em ambos."
      ],
      "metadata": {
        "id": "K8YTtdU0WM-b"
      }
    },
    {
      "cell_type": "code",
      "source": [
        "conjunto1 = {1, 2, 3}\n",
        "conjunto2 = {3, 4, 5}\n",
        "diferenca_simetrica = conjunto1 ^ conjunto2  # ou conjunto1.symmetric_difference(conjunto2)\n",
        "print(diferenca_simetrica)"
      ],
      "metadata": {
        "id": "Vp08WZh1WP-W"
      },
      "execution_count": null,
      "outputs": []
    },
    {
      "cell_type": "markdown",
      "source": [
        "## **Métodos de Conjuntos**\n"
      ],
      "metadata": {
        "id": "-4j1qcOFWVtQ"
      }
    },
    {
      "cell_type": "markdown",
      "source": [
        "Python oferece uma variedade de métodos para manipular conjuntos, incluindo:"
      ],
      "metadata": {
        "id": "YUvUbAieWYM-"
      }
    },
    {
      "cell_type": "markdown",
      "source": [
        "- `add(elemento)`: Adiciona um elemento ao conjunto."
      ],
      "metadata": {
        "id": "BT9mPFmaWbfa"
      }
    },
    {
      "cell_type": "code",
      "source": [
        "meu_conjunto = {1, 2, 3}\n",
        "meu_conjunto.add(4)\n",
        "print(meu_conjunto)"
      ],
      "metadata": {
        "colab": {
          "base_uri": "https://localhost:8080/"
        },
        "id": "OtWym7i3WfB9",
        "outputId": "1179f6f8-de04-4935-b637-183105bbb995"
      },
      "execution_count": 6,
      "outputs": [
        {
          "output_type": "stream",
          "name": "stdout",
          "text": [
            "{1, 2, 3, 4}\n"
          ]
        }
      ]
    },
    {
      "cell_type": "markdown",
      "source": [
        "- `remove(elemento)`: Remove um elemento do conjunto. Levanta um erro se o elemento não existir."
      ],
      "metadata": {
        "id": "1eUgZtVlWfsc"
      }
    },
    {
      "cell_type": "code",
      "source": [
        "meu_conjunto = {1, 2, 3}\n",
        "meu_conjunto.remove(4)\n",
        "print(meu_conjunto)"
      ],
      "metadata": {
        "colab": {
          "base_uri": "https://localhost:8080/",
          "height": 176
        },
        "id": "pMftnvP3WmNI",
        "outputId": "db1f1e90-c21e-42f5-ac86-af3fd646a50b"
      },
      "execution_count": 7,
      "outputs": [
        {
          "output_type": "error",
          "ename": "KeyError",
          "evalue": "4",
          "traceback": [
            "\u001b[0;31m---------------------------------------------------------------------------\u001b[0m",
            "\u001b[0;31mKeyError\u001b[0m                                  Traceback (most recent call last)",
            "\u001b[0;32m<ipython-input-7-cc622f12485b>\u001b[0m in \u001b[0;36m<cell line: 2>\u001b[0;34m()\u001b[0m\n\u001b[1;32m      1\u001b[0m \u001b[0mmeu_conjunto\u001b[0m \u001b[0;34m=\u001b[0m \u001b[0;34m{\u001b[0m\u001b[0;36m1\u001b[0m\u001b[0;34m,\u001b[0m \u001b[0;36m2\u001b[0m\u001b[0;34m,\u001b[0m \u001b[0;36m3\u001b[0m\u001b[0;34m}\u001b[0m\u001b[0;34m\u001b[0m\u001b[0;34m\u001b[0m\u001b[0m\n\u001b[0;32m----> 2\u001b[0;31m \u001b[0mmeu_conjunto\u001b[0m\u001b[0;34m.\u001b[0m\u001b[0mremove\u001b[0m\u001b[0;34m(\u001b[0m\u001b[0;36m4\u001b[0m\u001b[0;34m)\u001b[0m\u001b[0;34m\u001b[0m\u001b[0;34m\u001b[0m\u001b[0m\n\u001b[0m\u001b[1;32m      3\u001b[0m \u001b[0mprint\u001b[0m\u001b[0;34m(\u001b[0m\u001b[0mmeu_conjunto\u001b[0m\u001b[0;34m)\u001b[0m\u001b[0;34m\u001b[0m\u001b[0;34m\u001b[0m\u001b[0m\n",
            "\u001b[0;31mKeyError\u001b[0m: 4"
          ]
        }
      ]
    },
    {
      "cell_type": "markdown",
      "source": [
        "- `discard(elemento)`: Remove um elemento do conjunto se ele existir.\n"
      ],
      "metadata": {
        "id": "eWTIFdQEWmkl"
      }
    },
    {
      "cell_type": "code",
      "source": [
        "meu_conjunto = {1, 2, 3}\n",
        "meu_conjunto.discard(4)\n",
        "print(meu_conjunto)"
      ],
      "metadata": {
        "colab": {
          "base_uri": "https://localhost:8080/"
        },
        "id": "DnayhuQiWq_L",
        "outputId": "bcf52e72-ece4-4faf-fa1f-6eeca87bf337"
      },
      "execution_count": 8,
      "outputs": [
        {
          "output_type": "stream",
          "name": "stdout",
          "text": [
            "{1, 2, 3}\n"
          ]
        }
      ]
    },
    {
      "cell_type": "markdown",
      "source": [
        "- `pop()`: Remove e retorna um elemento arbitrário do conjunto.\n"
      ],
      "metadata": {
        "id": "2hmXbS4fWrRn"
      }
    },
    {
      "cell_type": "code",
      "source": [
        "meu_conjunto = {1, 2, 3}\n",
        "elemento = meu_conjunto.pop()\n",
        "print(f'elemento: {elemento}, meu_conjunto: {meu_conjunto}')"
      ],
      "metadata": {
        "colab": {
          "base_uri": "https://localhost:8080/"
        },
        "id": "8SATRF8OWvyt",
        "outputId": "2426f6cd-1d00-4226-d282-f9baf75e1c14"
      },
      "execution_count": 10,
      "outputs": [
        {
          "output_type": "stream",
          "name": "stdout",
          "text": [
            "elemento: 1, meu_conjunto: {2, 3}\n"
          ]
        }
      ]
    },
    {
      "cell_type": "markdown",
      "source": [
        "- `clear()`: Remove todos os elementos do conjunto.\n"
      ],
      "metadata": {
        "id": "xhoy_E73WwQY"
      }
    },
    {
      "cell_type": "code",
      "source": [
        "meu_conjunto = {1, 2, 3}\n",
        "meu_conjunto.clear()\n",
        "print(meu_conjunto)"
      ],
      "metadata": {
        "colab": {
          "base_uri": "https://localhost:8080/"
        },
        "id": "0xyJ3iG0W0CC",
        "outputId": "067bc87e-c4ec-46d1-bed8-d1a5c09b2e72"
      },
      "execution_count": 11,
      "outputs": [
        {
          "output_type": "stream",
          "name": "stdout",
          "text": [
            "set()\n"
          ]
        }
      ]
    },
    {
      "cell_type": "markdown",
      "source": [
        "- `len()`: Retorna o número de elementos no conjunto.\n"
      ],
      "metadata": {
        "id": "xgj8eWUQW25J"
      }
    },
    {
      "cell_type": "code",
      "source": [
        "meu_conjunto = {1, 2, 3}\n",
        "print(len(meu_conjunto))"
      ],
      "metadata": {
        "colab": {
          "base_uri": "https://localhost:8080/"
        },
        "id": "MTPbnbk_W6oC",
        "outputId": "57124125-ff28-4b0f-99b2-fa3b4c0e6e5b"
      },
      "execution_count": 12,
      "outputs": [
        {
          "output_type": "stream",
          "name": "stdout",
          "text": [
            "3\n"
          ]
        }
      ]
    },
    {
      "cell_type": "markdown",
      "source": [
        "- `in`: Verifica se um elemento está presente no conjunto."
      ],
      "metadata": {
        "id": "AntkVKjJW65d"
      }
    },
    {
      "cell_type": "code",
      "source": [
        "meu_conjunto = {1, 2, 3}\n",
        "print(4 in meu_conjunto)"
      ],
      "metadata": {
        "colab": {
          "base_uri": "https://localhost:8080/"
        },
        "id": "Dm4j7eO3W_c7",
        "outputId": "8a8ddf63-c257-478f-b4cf-a43fca762508"
      },
      "execution_count": 13,
      "outputs": [
        {
          "output_type": "stream",
          "name": "stdout",
          "text": [
            "False\n"
          ]
        }
      ]
    },
    {
      "cell_type": "markdown",
      "source": [
        "## **Aplicações de Conjuntos**"
      ],
      "metadata": {
        "id": "cfnwOPKyXE-W"
      }
    },
    {
      "cell_type": "markdown",
      "source": [
        "Conjuntos são úteis em diversas situações, como:\n",
        "\n"
      ],
      "metadata": {
        "id": "MIvySAhtXHpb"
      }
    },
    {
      "cell_type": "markdown",
      "source": [
        "- Remover duplicatas de uma lista:"
      ],
      "metadata": {
        "id": "4AJiwbbYXJiO"
      }
    },
    {
      "cell_type": "code",
      "source": [
        "lista_com_duplicatas = [1, 2, 2, 3, 4, 4, 5]\n",
        "lista_sem_duplicatas = list(set(lista_com_duplicatas))\n",
        "print(lista_sem_duplicatas)  # Saída: [1, 2, 3, 4, 5]"
      ],
      "metadata": {
        "id": "Yn5_HvRvXMOu"
      },
      "execution_count": null,
      "outputs": []
    },
    {
      "cell_type": "markdown",
      "source": [
        "- Verificar se dois conjuntos têm elementos em comum:"
      ],
      "metadata": {
        "id": "COBW-HVKXQYG"
      }
    },
    {
      "cell_type": "code",
      "source": [
        "conjunto1 = {1, 2, 3}\n",
        "conjunto2 = {3, 4, 5}\n",
        "tem_elementos_em_comum = len(conjunto1 & conjunto2) > 0\n",
        "print(tem_elementos_em_comum)  # Saída: True"
      ],
      "metadata": {
        "id": "O5rFT4NIXRld"
      },
      "execution_count": null,
      "outputs": []
    },
    {
      "cell_type": "markdown",
      "source": [
        "## Exercícios"
      ],
      "metadata": {
        "id": "cbifIxkaXULF"
      }
    },
    {
      "cell_type": "markdown",
      "source": [
        "1. Crie dois conjuntos com números inteiros e realize as operações de união, interseção, diferença e diferença simétrica.\n"
      ],
      "metadata": {
        "id": "sNYeHn-8XXwu"
      }
    },
    {
      "cell_type": "code",
      "source": [],
      "metadata": {
        "id": "LKgseaLGXY9V"
      },
      "execution_count": null,
      "outputs": []
    },
    {
      "cell_type": "markdown",
      "source": [
        "2. Escreva um programa que remova as palavras duplicadas de uma frase.\n"
      ],
      "metadata": {
        "id": "v5fZtYChXZRX"
      }
    },
    {
      "cell_type": "code",
      "source": [],
      "metadata": {
        "id": "xKF98u8FXbnt"
      },
      "execution_count": null,
      "outputs": []
    },
    {
      "cell_type": "markdown",
      "source": [
        "3. Crie um conjunto com nomes de frutas e verifique se uma fruta específica está presente no conjunto.\n"
      ],
      "metadata": {
        "id": "yAmAQRAZXeIH"
      }
    },
    {
      "cell_type": "code",
      "source": [],
      "metadata": {
        "id": "JzUNXy1kXeu8"
      },
      "execution_count": null,
      "outputs": []
    }
  ]
}